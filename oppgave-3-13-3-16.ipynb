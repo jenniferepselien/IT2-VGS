{
 "cells": [
  {
   "cell_type": "markdown",
   "metadata": {},
   "source": [
    "Oppgave 3.13-3.16\n",
    "\n",
    "except:: Dette fanger unntak som kan oppstå innenfor \"try\"-blokken. Hvis det oppstår et unntak (for eksempel hvis brukeren skriver noe annet enn et tall), vil koden gå til dette punktet og utføre koden som følger etter except:.\n",
    "print(\"Ugyldig input. Alder må være et tall.\"): Dette skriver ut en feilmelding hvis det oppstår et unntak under inntasting av alder.\n",
    "fødselsår = år - alder: Dette beregner fødselsåret ved å trekke alderen fra det gjeldende året (2024).\n",
    "print(f\"Du er født i {fødselsår}\"): Dette skriver ut fødselsåret til brukeren basert på den innskrevne alderen. Den bruker en f-streng (formatert streng) for å inkludere variabelen fødselsår i teksten."
   ]
  },
  {
   "cell_type": "code",
   "execution_count": 1,
   "metadata": {},
   "outputs": [],
   "source": [
    "while True:                                            # Dine kommentarer her: Lager en while løkke (en uendelig løkke), som repiteres til forrutsnningen er opppfylt og du går ut av løkken\n",
    "    try:                                               # try starter en blokk funksjon, det gjør at man kan utføre en kode og håndere de, evt feil vil gi deg tilgang til neste blokk\n",
    "        alder = int(input(\"Hvor gammel er du? \"))      # ber brukeren oppgi en int(input()), tar innformasjonen og lagrer det fra en streng til et heltall som settes som variablen alder \n",
    "        break                                          # funksjon for å avslutte while løkken (hoppe ut, og bryte forrutsetningene, når brukeren har gitt en gyldig data) \n",
    "    except:                                            # hvis try- funksjonen er ugyldig, sender deg hit og gi deg en output der det står at alder er feil, sender deg tilbake til til start av while løkken\n",
    "        print(\"Ugyldig input. Alder må være et tall.\") # printer ut \"Ugyldig input. Alder må være et tall.\" i terminal, og sender deg tilbake ti starten av while løkken\n",
    "år = 2024                                              # oppretter og setter variabelen år til å ha verdien 2024\n",
    "fødselsår = år - alder                                 # siden du har hoppet ut av while løkken i try funksjon, lager en ny variabel fødselsår av var år og trekker fra variabelen år \n",
    "print(f\"Du er født i {fødselsår}\")                     # printer ut du er født i fødselsår variabelen "
   ]
  },
  {
   "cell_type": "markdown",
   "metadata": {},
   "source": [
    "Lag et program som genrerer mailadresser fra fornavn og etternavn. Mailen skal bestå av hele det første fornavnet og første bokstav i etternavnet etterfulgt av @afk.no. For eksempel skal Thor Christian Coward bli thorc@afk.no. Som input til programmet må brukeren skrive inn minst to navn (fornavn og etternavn), hvis ikke skal brukeren få en feilmelding og få lov til å skrive input på nytt."
   ]
  },
  {
   "cell_type": "code",
   "execution_count": 3,
   "metadata": {},
   "outputs": [],
   "source": [
    "fornavn = input(\"Hva er fornavnet ditt?\")\n",
    "etternavn = input(\"Hva er etternavnet ditt?\")\n",
    "\n",
    "mailadresse = fornavn + etternavn[0] + \"@afk.no\"\n",
    "print(mailadresse)\n",
    "\n",
    "print(f\"Din nye mailadresse er:{fornavn}{etternavn[0]}{'@afk.no'}\")"
   ]
  },
  {
   "cell_type": "markdown",
   "metadata": {},
   "source": [
    "I denne oppgaven skal du lage ferdig en funksjon som returnerer True om et årstall er skuddår og False hvis årstallet ikke er et skuddår.\n",
    "Skuddår er år som er delelige på 4 og som ikke er delelige med 100, med unntak for år som er delelige på 400. Kopier koden under, og fiks funksjonen er_skuddår slik at alle testene er ok."
   ]
  },
  {
   "cell_type": "code",
   "execution_count": 1,
   "metadata": {},
   "outputs": [],
   "source": [
    "def er_skuddår(årstall: int):\n",
    "    # 2. lag funksjonen\n",
    "    if årstall % 400 == 0:\n",
    "        return True\n",
    "    if årstall % 4 == 0 and årstall % 100 != 0:  # Endret betingelsen her\n",
    "        return True\n",
    "    return False  # Flyttet dette utenfor if-blokkene, siden det er det som skal skje hvis ingen av betingelsene er oppfylt\n",
    "\n",
    "# Tester: hvis det ikke skjer noe i terminalen så er testen riktig \n",
    "skuddår = [1704, 1708, 1712, 1716, 1720, 1724, 1728, 1732, 1736, 1740, 1744, 1748, 1752, 1756, 1760, 1764, 1768, 1772, 1776, 1780, 1784, 1788, 1792, 1796, 1804, 1808, 1812, 1816, 1820, 1824, 1828, 1832, 1836, 1840, 1844, 1848, 1852, 1856, 1860, 1864, 1868, 1872, 1876, 1880, 1884, 1888, 1892, 1896, 1904, 1908, 1912, 1916, 1920, 1924, 1928, 1932, 1936, 1940, 1944, 1948, 1952, 1956, 1960, 1964, 1968, 1972, 1976, 1980, 1984, 1988, 1992, 1996, 2000, 2004, 2008, 2012, 2016, 2020, 2024, 2028, 2032, 2036, 2040, 2044, 2048, 2052, 2056, 2060, 2064, 2068, 2072, 2076, 2080, 2084, 2088, 2092, 2096, 2104, 2108, 2112, 2116, 2120, 2124, 2128, 2132, 2136, 2140, 2144, 2148, 2152, 2156, 2160, 2164, 2168, 2172, 2176, 2180, 2184, 2188, 2192, 2196]\n",
    "for år in range(1704, 2197):\n",
    "    if år in skuddår:\n",
    "        assert er_skuddår(år) == True, f\"{år} er et skuddår\"\n",
    "    else:\n",
    "        assert er_skuddår(år) == False, f\"{år} er ikke et skuddår\""
   ]
  },
  {
   "cell_type": "markdown",
   "metadata": {},
   "source": [
    "Oppgave 3.16 \n",
    "Poengsum 30: ikkje bestått \n",
    "poengsum 65: bestått \n",
    "peongsum 82: godt bestått \n",
    "poengsum 97: mykje godt bestått \n",
    "poengsum 102: ikke gyldig poengsum\n",
    "poengsum 0: ikkje bestått \n",
    "poengsum 50: ikje gyldig poengsum \n",
    "poengsum 69: ikkje gyldig poengsum\n",
    "poengsum 70: ikkje gyldig poengsum\n",
    "poengsum 89: ikkje gyldig opengsum\n",
    "pengsum 90: ikkje gyldig poengsum \n",
    "poengsum 100: ikkje gyldig poengsum \n",
    "poengsum -1: ikkje bestått \n"
   ]
  }
 ],
 "metadata": {
  "kernelspec": {
   "display_name": "Python 3.11.1 ('venv': venv)",
   "language": "python",
   "name": "python3"
  },
  "language_info": {
   "codemirror_mode": {
    "name": "ipython",
    "version": 3
   },
   "file_extension": ".py",
   "mimetype": "text/x-python",
   "name": "python",
   "nbconvert_exporter": "python",
   "pygments_lexer": "ipython3",
   "version": "3.11.1"
  },
  "orig_nbformat": 4,
  "vscode": {
   "interpreter": {
    "hash": "71377024ffcb82830533b9d85224223703cd701318b087f53761a933a1b19910"
   }
  }
 },
 "nbformat": 4,
 "nbformat_minor": 2
}
