{
 "cells": [
  {
   "cell_type": "markdown",
   "metadata": {},
   "source": [
    "## SAMMFUNN OG SYSTEMER \n",
    "- Gjør oppgave [2.1  - 2.17](https://it2.thorcc.no/databehandling-og-algoritmer/oversikt) på [it2.thorcc.no](https://it2.thorcc.no)\n",
    "  \n",
    "### Pseudokode"
   ]
  },
  {
   "cell_type": "markdown",
   "metadata": {},
   "source": [
    "# Oppgave 2.1 \n",
    "\n",
    "Hvilket av følgende er ikke et typisk kjennetegn på pseudokode? Velg riktig alternativ.\n",
    "  den har uformell syntaks.\n",
    "  den ligner på vanlig menneskespråk.\n",
    "x den kan kjøres direkte på en datamaskin.\n",
    "  den brukes ofte i planleggingsfasen av programmering."
   ]
  },
  {
   "cell_type": "markdown",
   "metadata": {},
   "source": [
    "# Oppgave 2.2 \n",
    "\n",
    "Ta utgangspunkt i følgende pseudokode:\n",
    "SET m TO 3\n",
    "SET i TO 1\n",
    "WHILE i GREATER THAN m\n",
    "  DISPLAY \"Lykkelig dag!\"\n",
    "  INCREMENT i\n",
    "ENDWHILE\n",
    "\n",
    "Hvor mange ganger blir teksten \"Lykkelig dag!\" skrevet ut?\n",
    " tre ganger\n",
    " to ganger\n",
    " én gang\n",
    " ingen ganger"
   ]
  },
  {
   "cell_type": "markdown",
   "metadata": {},
   "source": [
    "# Oppgave 2.3 \n",
    "Hvilke av de følgende sekvensene med pseudokode skriver ut tallene fra og med 1 til og med 5? Flere alternativer kan være riktige. Velg riktige svar.\n",
    "1.\n",
    "SET i TO 1\n",
    "FOR hver i LESSER OR EQUAL 5\n",
    "  PRINT i\n",
    "ENDFOR\n",
    "2.\n",
    "SET i TO 1\n",
    "WHILE i < 5\n",
    "  PRINT i\n",
    "  INCREMENT i\n",
    "ENDWHILE\n",
    "3.\n",
    "SET i TO 0\n",
    "FOR hver i LESSER OR EQUAL 4\n",
    "  PRINT i+1\n",
    "ENDFOR\n",
    "4.\n",
    "SET i TO 1\n",
    "WHILE i <= 5\n",
    "  PRINT i\n",
    "  INCREMENT i BY 2\n",
    "ENDWHILE\n",
    "\n",
    " 1\n",
    " 2\n",
    " 3\n",
    " 4\n"
   ]
  },
  {
   "cell_type": "markdown",
   "metadata": {},
   "source": [
    "# 2.4 \n",
    "Tallene 1, 3, 6, 10, 15, 21 og så videre kalles for trekanttall. De tilsvarer antallet prikker som vil vises i en likesidet trekant når man bruker et grunnleggende trekantmønster for å bygge trekanten. Se illustrasjonen nedenfor:\n",
    "v23-3\n",
    "Den følgende pseudokoden beskriver en funksjon som regner ut og returner trekanttallet nummer n:\n",
    "FUNCTION trekanttall (n)\n",
    "  SET tn TO n * (n+1)/2\n",
    "  RETURN tn\n",
    "ENDFUNCTION\n",
    "Bruk funksjonen som er beskrevet ovenfor, og skriv pseudokoden til et program som regner sammen og skriver ut totalsummen av de ti første trekanttallene. Bruk dobbelt mellomrom for innrykk i koden der det er aktuelt. Skriv svaret ditt nedenfor.\n",
    "Du kan bruke din egen standard for pseudokode, bare den er hensiktsmessig.\n"
   ]
  },
  {
   "cell_type": "markdown",
   "metadata": {},
   "source": [
    "### Flytdiagram\n"
   ]
  },
  {
   "cell_type": "markdown",
   "metadata": {},
   "source": [
    "# Oppgave 2.5\n",
    "Oppgave 5 fra eksamnen H23\n",
    "Et system som beregner billettprisen avhengig av kjøperens alder, bruker følgende regler for billettkategorier:\n",
    "Hvis brukeren er 15 år gammel eller yngre, skal brukeren få barnebillett til 30 kroner.\n",
    "Hvis brukeren er 16 år gammel eller eldre, skal brukeren få voksenbillett til 50 kroner.\n",
    "Hvis brukeren er 67 år gammel eller eldre, skal brukeren få pensjonistbillett til 35 kroner.\n",
    "Lag et flytdiagram for et program der brukeren skriver inn alderen på kjøperen og programmet regner ut og skriver ut riktig billettpris.\n",
    "Lag flytdiagrammet i et egnet program, og lagre det i et allment lesbart format (f.eks. pdf eller png) og legg det ved i samme mappe som filen oppgaver-pseudokode-flytdiagram.md."
   ]
  },
  {
   "cell_type": "markdown",
   "metadata": {},
   "source": [
    "# 2.6 \n",
    "I figuren nedenfor finner du en illustrasjon som viser et flytskjema for en algoritme, og i kodeboksen under figuren finner du fire sekvenser med pseudokode.\n",
    "v23-4\n",
    "1:\n",
    "SET n TO 1\n",
    "WHILE n LESSER THAN OR EQUAL TO 10\n",
    "  INCREMENT n\n",
    "  DISPLAY n\n",
    "ENDWHILE\n",
    "2:\n",
    "SET n TO 0\n",
    "FOR hver n LESSER THAN OR EQUAL TO 10\n",
    "  DISPLAY n\n",
    "ENDFOR\n",
    "3:\n",
    "SET n TO 1\n",
    "WHILE n LESSER THAN 10\n",
    "  DISPLAY n\n",
    "  INCREMENT n\n",
    "ENDWHILE\n",
    "4:\n",
    "SET n TO 1\n",
    "FOR hver n LESSER THAN OR EQUAL TO 10\n",
    "  DISPLAY n\n",
    "ENDFOR\n",
    "Hvilken sekvens med pseudokode gir lik visning av output som algoritmen beskrevet av flytskjemaet? Velg riktig svar:\n",
    " 1\n",
    " 2\n",
    " 3\n",
    " 4\n"
   ]
  },
  {
   "cell_type": "markdown",
   "metadata": {},
   "source": []
  }
 ],
 "metadata": {
  "kernelspec": {
   "display_name": "Python 3.11.1 64-bit",
   "language": "python",
   "name": "python3"
  },
  "language_info": {
   "name": "python",
   "version": "3.11.1"
  },
  "orig_nbformat": 4,
  "vscode": {
   "interpreter": {
    "hash": "aee8b7b246df8f9039afb4144a1f6fd8d2ca17a180786b69acc140d282b71a49"
   }
  }
 },
 "nbformat": 4,
 "nbformat_minor": 2
}
